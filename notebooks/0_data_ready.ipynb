{
 "cells": [
  {
   "cell_type": "markdown",
   "metadata": {},
   "source": [
    "### AFME2 Sprint Summary Report (Oct 2021)\n",
    "### Dataset to use:"
   ]
  },
  {
   "cell_type": "markdown",
   "metadata": {},
   "source": [
    "---"
   ]
  },
  {
   "cell_type": "code",
   "execution_count": 1,
   "metadata": {},
   "outputs": [
    {
     "name": "stdout",
     "output_type": "stream",
     "text": [
      "Today's date: 2022-02-13\n"
     ]
    }
   ],
   "source": [
    "from datetime import date\n",
    "\n",
    "today = date.today()\n",
    "\n",
    "print(\"Today's date:\", today)"
   ]
  },
  {
   "cell_type": "code",
   "execution_count": 2,
   "metadata": {},
   "outputs": [],
   "source": [
    "# Finalize dataset\n",
    "\n",
    "import pandas as pd\n",
    "\n",
    "df_use = pd.read_csv('../data/afme2_people.csv')\n",
    "\n",
    "df_use['count_rows']=1\n",
    "df_use['status_c']='x'\n",
    "df_use['status_c'].mask(df_use['status'] == 0, 'Did Not Attend', inplace=True)\n",
    "df_use['status_c'].mask(df_use['status'] == 1, 'Attended', inplace=True)\n",
    "\n",
    "# code for renaming columns\n",
    "# df_locinfo2 = df_locinfo2.rename(columns={'province_state': 'state-province',\n",
    "#                         'Timestamp': 'timestamp',\n",
    "#                        })\n",
    "\n",
    "\n",
    "# Write out the dataframe to a file\n",
    "df_use.to_csv('../data/afme2_final.csv', index=False)"
   ]
  },
  {
   "cell_type": "code",
   "execution_count": null,
   "metadata": {},
   "outputs": [],
   "source": []
  },
  {
   "cell_type": "code",
   "execution_count": null,
   "metadata": {},
   "outputs": [],
   "source": []
  }
 ],
 "metadata": {
  "kernelspec": {
   "display_name": "Python 3 (ipykernel)",
   "language": "python",
   "name": "python3"
  },
  "language_info": {
   "codemirror_mode": {
    "name": "ipython",
    "version": 3
   },
   "file_extension": ".py",
   "mimetype": "text/x-python",
   "name": "python",
   "nbconvert_exporter": "python",
   "pygments_lexer": "ipython3",
   "version": "3.9.7"
  },
  "toc-autonumbering": false
 },
 "nbformat": 4,
 "nbformat_minor": 4
}
