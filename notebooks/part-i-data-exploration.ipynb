{
 "cells": [
  {
   "cell_type": "markdown",
   "metadata": {
    "noteable": {
     "cell_type": "markdown",
     "transaction_ids": {
      "source": "da4eac05-48d1-4618-b38f-fa4730ad4167"
     }
    },
    "nteract": {
     "transient": {
      "deleting": false
     }
    },
    "slideshow": {
     "slide_type": "slide"
    }
   },
   "source": [
    "# Welcome to introduction to dashboards with Plotly and Dash\n",
    "\n",
    "-------------------------------------------------------------------------------------------------------------------------------\n",
    "\n",
    "### Workshop facilitators: Laura Gutierrez Funderburk, Hanh Tong\n",
    "\n",
    "### About this workshop\n",
    "\n",
    "In this workshop we will explore some characteristics of the housing market in Canada. \n",
    "\n",
    "It is important to note that this workshop assumes:\n",
    "\n",
    "1. Data cleaning and exploration was completed prior to developing the dashboard\n",
    "2. Some comfort with `pandas` and visualization is assumed\n",
    "3. Comfort navigating the Jupyter environment is needed\n"
   ]
  },
  {
   "cell_type": "markdown",
   "metadata": {
    "slideshow": {
     "slide_type": "slide"
    }
   },
   "source": [
    "### Workshop schedule:\n",
    "\n",
    "-------------------------------------------------------------------------------------------------------------------------------\n",
    "\n",
    "\n",
    "#### 1. Part I: Data exploration\n",
    "\n",
    "In this section, we will first spend time getting familiar with the data. We will use the `pandas` and `plotly` libraries, we will also explore the `DEX` feature within Noteable to ease getting a good sense for what the data contains.\n",
    "\n",
    "In this section, we will also explore the notion of factoring code into functions, and the notion of writing a Python script that we can use to easily recreate our results. \n",
    "\n",
    "#### 2. Part II: Dashboard components\n",
    "\n",
    "In this section, we will take what we built together in part I and explore the main components in a Dash dashboard. "
   ]
  },
  {
   "cell_type": "markdown",
   "metadata": {
    "slideshow": {
     "slide_type": "slide"
    }
   },
   "source": [
    "## Part I: Data exploration\n"
   ]
  },
  {
   "cell_type": "code",
   "execution_count": null,
   "metadata": {
    "execution": {
     "iopub.execute_input": "2021-09-13T19:41:24.753Z",
     "iopub.status.busy": "2021-09-13T19:41:24.703Z",
     "iopub.status.idle": "2021-09-13T19:41:24.866Z",
     "shell.execute_reply": "2021-09-13T19:41:24.932Z"
    },
    "noteable": {
     "output_collection_id": "725608ac-686b-4d5b-a6e5-23ecfcf14322",
     "transaction_ids": {
      "source": "8d5bac8e-08c5-4779-b29c-d3e7af9e6f42"
     }
    },
    "slideshow": {
     "slide_type": "fragment"
    }
   },
   "outputs": [],
   "source": [
    "import pandas as pd\n",
    "import plotly.express as px"
   ]
  },
  {
   "cell_type": "code",
   "execution_count": null,
   "metadata": {
    "execution": {
     "iopub.execute_input": "2021-09-08T00:26:45.894Z",
     "iopub.status.busy": "2021-09-08T00:26:45.869Z",
     "iopub.status.idle": "2021-09-08T00:26:45.923Z",
     "shell.execute_reply": "2021-09-08T00:26:45.951Z"
    },
    "jupyter": {
     "outputs_hidden": false,
     "source_hidden": false
    },
    "noteable": {
     "cell_type": "code",
     "transaction_ids": {
      "source": "8ed69257-c7a8-4eb7-a13f-8ed72dab7b20"
     }
    },
    "nteract": {
     "transient": {
      "deleting": false
     }
    },
    "slideshow": {
     "slide_type": "fragment"
    }
   },
   "outputs": [],
   "source": [
    "# Read data\n",
    "url = 'https://raw.githubusercontent.com/Vancouver-Datajam/dashboard-workshop-dash/main/data/delinquency_mortgage_population_2021_2020.csv'\n",
    "data_pop_del_mort_df = pd.read_csv(url, index_col=0)\n",
    "data_pop_del_mort_df.head(10)\n"
   ]
  },
  {
   "cell_type": "markdown",
   "metadata": {
    "noteable": {
     "cell_type": "markdown",
     "transaction_ids": {
      "source": "58f383e3-de6c-40b9-8cce-4680b83ea047"
     }
    },
    "nteract": {
     "transient": {
      "deleting": false
     }
    },
    "slideshow": {
     "slide_type": "slide"
    }
   },
   "source": [
    "## Exercise: Get familiar with the table\n",
    "\n",
    "-------------------------------------------------------------------------------------------------------------------------------\n",
    "\n",
    "Run the cell below.\n",
    "\n",
    "#### Questions\n",
    "\n",
    "a) What are relevant variables in the data?\n",
    "\n",
    "b)What is the extent (range), mean and median of columns `DelinquencyRate`, `AverageMortgageAmount` and `PopulationSize`?\n",
    "\n",
    "c) What is the time range and frequency of the data?"
   ]
  },
  {
   "cell_type": "code",
   "execution_count": null,
   "metadata": {
    "dx": {
     "dashboard": {
      "multiViews": []
     },
     "decoration": {},
     "fieldMetadata": {},
     "filters": {
      "c9a67a11-1a89-4923-9fd3-8ec954341f77": {
       "DATE_FILTER": {},
       "DIMENSION_FILTER": {},
       "METRIC_FILTER": {}
      },
      "transitory": {
       "c9a67a11-1a89-4923-9fd3-8ec954341f77": {
        "DATE_FILTER": {},
        "DIMENSION_FILTER": {},
        "METRIC_FILTER": {}
       }
      }
     },
     "mode": "exploration",
     "sampling": {
      "sampleSeed": 4748360911,
      "sampleSize": 10000,
      "sampleStrategy": "none"
     },
     "simpleTable": false,
     "styles": {
      "colors": [
       "#005066",
       "#b3331d",
       "#b6a756",
       "#122753",
       "#b86117",
       "#27552d",
       "#e46538",
       "#96bb77",
       "#e5e36e",
       "#e6a19f",
       "#159eb7",
       "#827abf",
       "#f62150",
       "#6f89b6",
       "#f5e0b7",
       "#5b1e37",
       "#b9e3c5"
      ]
     },
     "views": [
      {
       "chart": {
        "areaType": "hexbin",
        "barGrouping": "Clustered",
        "baseLayer": "world",
        "baseLayerFill": "#FFFFFF",
        "baseLayerStroke": "#000000",
        "bgColor": "none",
        "candleClose": "DelinquencyRate",
        "candleHigh": "DelinquencyRate",
        "candleLow": "DelinquencyRate",
        "candleOpen": "DelinquencyRate",
        "combinationMode": "AVG",
        "dim1": "Geography",
        "dim2": "Time",
        "dim3": "none",
        "filteredDataOnly": "All Data",
        "funnelData": "metric",
        "funnelMetricOrder": [
         "index",
         "DelinquencyRate",
         "AverageMortgageAmount",
         "PopulationSize"
        ],
        "funnelMode": "bar",
        "hierarchyType": "dendrogram",
        "layerSettings": [
         {
          "color": "#000000",
          "hoverOpts": {
           "dims": [
            "Geography",
            "Time"
           ],
           "mets": [
            "index",
            "DelinquencyRate",
            "AverageMortgageAmount",
            "PopulationSize"
           ]
          },
          "id": "936493b3-7b1b-4e34-bbe6-4ce8c5cc2500",
          "latDim": "index",
          "longDim": "index",
          "pointColorOpts": {
           "color": "#000000",
           "gradient": {
            "interpolater": "(t) => interpolateTurbo(0.05 + 0.95 * t)",
            "name": "Turbo"
           },
           "max": 329,
           "met": "index",
           "min": 0,
           "mode": "gradient",
           "scale": {
            "name": "Linear",
            "scale": "scaleLinear"
           }
          },
          "pointSizeOpts": {
           "max": 329,
           "met": "index",
           "min": 0,
           "mode": "function",
           "scale": {
            "name": "Linear",
            "scale": "scaleLinear"
           },
           "size": 2,
           "sizeMax": 10,
           "sizeMin": 1
          },
          "size": 2,
          "stroke": "#000000",
          "strokeWidth": 1,
          "transparency": 0.75,
          "type": "point"
         }
        ],
        "lineType": "line",
        "mapMode": "point",
        "mapZoom": "basemap",
        "marginalGraphics": "none",
        "metric1": "index",
        "metric2": "DelinquencyRate",
        "metric3": "none",
        "metric4": "none",
        "networkLabel": "none",
        "networkType": "force",
        "parCoordsColor": "none",
        "pieceType": "bar",
        "proBarMode": "Combined",
        "scatterplotColor": "none",
        "selectedDimensions": [
         "Geography"
        ],
        "selectedMetrics": [],
        "sparkchart": "none",
        "summaryBins": 30,
        "summaryType": "violin",
        "trendLine": "none"
       },
       "chartMode": "grid",
       "decoration": {
        "footer": "",
        "subtitle": "",
        "title": "Table"
       },
       "id": "c9a67a11-1a89-4923-9fd3-8ec954341f77",
       "isComment": false,
       "isDefault": true,
       "type": "public",
       "userID": "Test"
      }
     ]
    },
    "execution": {
     "iopub.execute_input": "2021-09-08T00:56:16.039Z",
     "iopub.status.busy": "2021-09-08T00:56:15.997Z",
     "iopub.status.idle": "2021-09-08T00:56:18.182Z",
     "shell.execute_reply": "2021-09-08T00:56:18.229Z"
    },
    "jupyter": {
     "outputs_hidden": false,
     "source_hidden": false
    },
    "noteable": {
     "cell_type": "python",
     "transaction_ids": {
      "source": "b660334b-53c8-4fac-a010-28573c190d42"
     }
    },
    "nteract": {
     "transient": {
      "deleting": false
     }
    },
    "slideshow": {
     "slide_type": "slide"
    }
   },
   "outputs": [],
   "source": [
    "data_pop_del_mort_df.info()"
   ]
  },
  {
   "cell_type": "code",
   "execution_count": null,
   "metadata": {},
   "outputs": [],
   "source": [
    "data_pop_del_mort_df.describe()"
   ]
  },
  {
   "cell_type": "markdown",
   "metadata": {
    "noteable": {
     "cell_type": "markdown",
     "transaction_ids": {
      "source": "c8f8b572-533d-4d06-a4e7-fa99702afd8b"
     }
    },
    "nteract": {
     "transient": {
      "deleting": false
     }
    },
    "slideshow": {
     "slide_type": "slide"
    }
   },
   "source": [
    "## Using Python and Plotly to generate interactive plots\n",
    "\n",
    "-------------------------------------------------------------------------------------------------------------------------------\n",
    "\n",
    "\n",
    "In this section we are going to write a few commands to get started with visualizations."
   ]
  },
  {
   "cell_type": "code",
   "execution_count": null,
   "metadata": {
    "jupyter": {
     "outputs_hidden": false,
     "source_hidden": false
    },
    "noteable": {
     "cell_type": "python",
     "transaction_ids": {
      "source": "9130bd96-9e2b-4ac9-85b9-550069d6e469"
     }
    },
    "nteract": {
     "transient": {
      "deleting": false
     }
    },
    "slideshow": {
     "slide_type": "slide"
    }
   },
   "outputs": [],
   "source": [
    "# First attempt\n",
    "px.line(data_pop_del_mort_df, \n",
    "        x = \"Time\",\n",
    "        y=\"DelinquencyRate\")\n"
   ]
  },
  {
   "cell_type": "markdown",
   "metadata": {
    "slideshow": {
     "slide_type": "slide"
    }
   },
   "source": [
    "The plot above is quite difficult to read. Let's colour the values by Geography, and add a title."
   ]
  },
  {
   "cell_type": "code",
   "execution_count": null,
   "metadata": {
    "scrolled": false,
    "slideshow": {
     "slide_type": "subslide"
    }
   },
   "outputs": [],
   "source": [
    "# Second attempt\n",
    "px.line(data_pop_del_mort_df, \n",
    "        x = \"Time\",\n",
    "        y=\"DelinquencyRate\",\n",
    "       color=\"Geography\",\n",
    "       title = \"Chart: line plot of Time and DelinquencyRate by Geography\")\n"
   ]
  },
  {
   "cell_type": "markdown",
   "metadata": {
    "slideshow": {
     "slide_type": "slide"
    }
   },
   "source": [
    "#### Exercise: Let's take a look at the average mortgage amount and population size\n",
    "\n",
    "Complete the code below to visualize the average mortgage amount. \n",
    "\n",
    "Change the code to visualize changes in population size."
   ]
  },
  {
   "cell_type": "code",
   "execution_count": null,
   "metadata": {
    "slideshow": {
     "slide_type": "subslide"
    }
   },
   "outputs": [],
   "source": [
    "variable = \n",
    "\n",
    "px.line(data_pop_del_mort_df, \n",
    "        x = \"Time\",\n",
    "        y=variable,\n",
    "       color=\"Geography\",\n",
    "       title = f\"Chart: line plot of Time and {variable} by Geography\")\n"
   ]
  },
  {
   "cell_type": "markdown",
   "metadata": {
    "slideshow": {
     "slide_type": "slide"
    }
   },
   "source": [
    "Let's take a look at their distribution by using a box plot."
   ]
  },
  {
   "cell_type": "code",
   "execution_count": null,
   "metadata": {
    "slideshow": {
     "slide_type": "subslide"
    }
   },
   "outputs": [],
   "source": [
    "px.box(data_pop_del_mort_df, \n",
    "       x = 'Geography', \n",
    "       y = 'DelinquencyRate',\n",
    "      color = 'Geography',\n",
    "      title  = 'Chart: box plot of Delinquency rate by Geoography.')"
   ]
  },
  {
   "cell_type": "markdown",
   "metadata": {
    "slideshow": {
     "slide_type": "slide"
    }
   },
   "source": [
    "#### Exercise: Let's take a look at distribution of average mortgage amount and population size\n",
    "\n",
    "Complete the code below to visualize the average mortgage amount and population size. "
   ]
  },
  {
   "cell_type": "code",
   "execution_count": null,
   "metadata": {
    "slideshow": {
     "slide_type": "subslide"
    }
   },
   "outputs": [],
   "source": [
    "variable =\n",
    "px.box(data_pop_del_mort_df, \n",
    "       x = 'Geography', \n",
    "       y = variable,\n",
    "      color = 'Geography',\n",
    "      title  = f'Chart: box plot of {variable} by Geoography.')"
   ]
  },
  {
   "cell_type": "markdown",
   "metadata": {
    "slideshow": {
     "slide_type": "slide"
    }
   },
   "source": [
    "Let's work on a scatter plot to see if there is a relationship between average mortgage amount and delinquency."
   ]
  },
  {
   "cell_type": "code",
   "execution_count": null,
   "metadata": {
    "slideshow": {
     "slide_type": "subslide"
    }
   },
   "outputs": [],
   "source": [
    "px.scatter(data_frame=data_pop_del_mort_df,\n",
    "          y = \"AverageMortgageAmount\",\n",
    "          x = \"DelinquencyRate\",\n",
    "          title=\"Average mortgage rate to delinquency rate\")"
   ]
  },
  {
   "cell_type": "markdown",
   "metadata": {
    "slideshow": {
     "slide_type": "slide"
    }
   },
   "source": [
    "#### Exercise: modify the code above to colour the dots by Geography, add hover name with Time"
   ]
  },
  {
   "cell_type": "code",
   "execution_count": null,
   "metadata": {
    "slideshow": {
     "slide_type": "subslide"
    }
   },
   "outputs": [],
   "source": [
    "px.scatter(data_frame=data_pop_del_mort_df,\n",
    "      y = \"AverageMortgageAmount\",\n",
    "      x = \"DelinquencyRate\",\n",
    "      title=\"Average mortgage rate to delinquency rate\",\n",
    "      color=, \n",
    "      hover_name=)"
   ]
  },
  {
   "cell_type": "markdown",
   "metadata": {
    "slideshow": {
     "slide_type": "slide"
    }
   },
   "source": [
    "## Using dictionaries to access different kind of functions\n",
    "\n",
    "-------------------------------------------------------------------------------------------------------------------------------\n",
    "\n",
    "\n",
    "We need to do quite a bit of work refactoring our code in preparation for our dashboard.\n",
    "\n",
    "We will use dictionaries to access different plotting functions.\n",
    "\n",
    "Recall, a dictionary is a data structure with `keys` and `values`. The syntax of a dictionary is as follows:\n",
    "\n",
    "    dictionary =  { key1 : value1,\n",
    "                    key2 : value2,\n",
    "                    key3 : value3}\n",
    "                    \n",
    "Where keys are typically a string, and values can be a data structure such as a string, list, set, tuple, or a function."
   ]
  },
  {
   "cell_type": "code",
   "execution_count": null,
   "metadata": {
    "slideshow": {
     "slide_type": "slide"
    }
   },
   "outputs": [],
   "source": [
    "sample_dictionary = {\"list_numbers\" : [1, 2, 3, 4, 5],\n",
    "                     \"set_numbers\": set([1, 2, 3, 4, 5]),\n",
    "                     \"tuple_numbers\": tuple([1, 2, 3, 4, 5]),\n",
    "                     \"function_sum\": sum}"
   ]
  },
  {
   "cell_type": "markdown",
   "metadata": {
    "slideshow": {
     "slide_type": "slide"
    }
   },
   "source": [
    "To access the values within a dictionary, we use the following notation\n",
    "\n",
    "    dictionary[key]\n",
    "    \n",
    "For example"
   ]
  },
  {
   "cell_type": "code",
   "execution_count": null,
   "metadata": {
    "slideshow": {
     "slide_type": "subslide"
    }
   },
   "outputs": [],
   "source": [
    "sample_dictionary['list_numbers']"
   ]
  },
  {
   "cell_type": "code",
   "execution_count": null,
   "metadata": {
    "slideshow": {
     "slide_type": "subslide"
    }
   },
   "outputs": [],
   "source": [
    "sample_dictionary['set_numbers']"
   ]
  },
  {
   "cell_type": "code",
   "execution_count": null,
   "metadata": {
    "slideshow": {
     "slide_type": "subslide"
    }
   },
   "outputs": [],
   "source": [
    "sample_dictionary['tuple_numbers']"
   ]
  },
  {
   "cell_type": "code",
   "execution_count": null,
   "metadata": {
    "slideshow": {
     "slide_type": "subslide"
    }
   },
   "outputs": [],
   "source": [
    "sample_dictionary['function_sum']"
   ]
  },
  {
   "cell_type": "markdown",
   "metadata": {
    "slideshow": {
     "slide_type": "subslide"
    }
   },
   "source": [
    "To use the function `sum`, simply pass a list of numbers you want to add."
   ]
  },
  {
   "cell_type": "code",
   "execution_count": null,
   "metadata": {
    "slideshow": {
     "slide_type": "subslide"
    }
   },
   "outputs": [],
   "source": [
    "sum([1,2,3])"
   ]
  },
  {
   "cell_type": "markdown",
   "metadata": {
    "slideshow": {
     "slide_type": "subslide"
    }
   },
   "source": [
    "We can obtain the same result with our dictionary as follows:"
   ]
  },
  {
   "cell_type": "code",
   "execution_count": null,
   "metadata": {
    "slideshow": {
     "slide_type": "subslide"
    }
   },
   "outputs": [],
   "source": [
    "sample_dictionary['function_sum']([1,2,3])"
   ]
  },
  {
   "cell_type": "markdown",
   "metadata": {
    "slideshow": {
     "slide_type": "subslide"
    }
   },
   "source": [
    "We can use the following dictionary to generate different kinds of plots."
   ]
  },
  {
   "cell_type": "code",
   "execution_count": null,
   "metadata": {
    "slideshow": {
     "slide_type": "subslide"
    }
   },
   "outputs": [],
   "source": [
    "# Dictionary\n",
    "plot_dict = {'box': px.box,'violin': px.violin, 'scatter': px.scatter, 'line':px.line}"
   ]
  },
  {
   "cell_type": "markdown",
   "metadata": {
    "slideshow": {
     "slide_type": "subslide"
    }
   },
   "source": [
    "We can then use the dictionary to try different kinds of plots."
   ]
  },
  {
   "cell_type": "code",
   "execution_count": null,
   "metadata": {
    "slideshow": {
     "slide_type": "subslide"
    }
   },
   "outputs": [],
   "source": [
    "plot_dict['scatter'](data_pop_del_mort_df, \n",
    "        x = \"Time\",\n",
    "        y=\"DelinquencyRate\",\n",
    "       color=\"Geography\",\n",
    "       title = \"Chart: line plot of Time and DelinquencyRate by Geography\")"
   ]
  },
  {
   "cell_type": "markdown",
   "metadata": {
    "slideshow": {
     "slide_type": "slide"
    }
   },
   "source": [
    "#### Exercise 1: change the key `scatter` for `line` , `box` and `violin` and run the cell\n",
    "\n",
    "#### Exercise 2: change the `x` variable to be one of `Geography` or `Time`\n",
    "\n",
    "#### Exercise 3: Change the `y` variable to be one of `PopulationSize`, `DelinquencyRate` or `AverageMortgageAmount`"
   ]
  },
  {
   "cell_type": "code",
   "execution_count": null,
   "metadata": {
    "slideshow": {
     "slide_type": "subslide"
    }
   },
   "outputs": [],
   "source": [
    "plot_dict['scatter'](data_pop_del_mort_df, \n",
    "        x = \"Time\",\n",
    "        y=\"DelinquencyRate\",\n",
    "       color=\"Geography\",\n",
    "       title = \"Playing with several kinds of charts\")"
   ]
  },
  {
   "cell_type": "markdown",
   "metadata": {
    "noteable": {
     "cell_type": "markdown",
     "transaction_ids": {
      "source": "279cc34d-be0b-4846-bd9a-a0eb60831f2a"
     }
    },
    "nteract": {
     "transient": {
      "deleting": false
     }
    },
    "slideshow": {
     "slide_type": "slide"
    }
   },
   "source": [
    "## Refactoring code into functions\n",
    "\n",
    "-------------------------------------------------------------------------------------------------------------------------------\n",
    "\n",
    "\n",
    "In the next section we will refactor our code to ease reproducibility and also to ensure our Dash app is cleaner. \n",
    "\n",
    "We can then put our function dictionary into a Python function. "
   ]
  },
  {
   "cell_type": "code",
   "execution_count": null,
   "metadata": {
    "execution": {
     "iopub.execute_input": "2021-09-08T01:52:42.307Z",
     "iopub.status.busy": "2021-09-08T01:52:42.256Z",
     "iopub.status.idle": "2021-09-08T01:52:42.352Z",
     "shell.execute_reply": "2021-09-08T01:52:42.489Z"
    },
    "jupyter": {
     "outputs_hidden": false,
     "source_hidden": false
    },
    "noteable": {
     "cell_type": "python",
     "transaction_ids": {
      "source": "997df682-f0a1-4204-b7a1-6e3decde5d4e"
     }
    },
    "nteract": {
     "transient": {
      "deleting": false
     }
    },
    "slideshow": {
     "slide_type": "slide"
    }
   },
   "outputs": [],
   "source": [
    "def graph_region(region_df, graph_type: str, dimension1: str, dimension2: str):\n",
    "    \"\"\"\n",
    "    Parameters\n",
    "    ----------\n",
    "        region_df: (dataframe object) reshaped data frame object with mortage, delinquency and population data\n",
    "        graph_type: (string) \"box\", \"violin\", \"scatter\", \"line\"\n",
    "        dimension1: (str) one of 'Time' or 'Geography'\n",
    "        dimension2: (str) one of 'AverageMortgageAmount', 'AverageMortgageAmount' or 'PopulationSize'\n",
    "        \n",
    "    Returns:\n",
    "    --------\n",
    "        Plotly figure \n",
    "    \"\"\"\n",
    "    \n",
    "    plot_dict = {'box': px.box,'violin': px.violin, 'scatter': px.scatter, 'line':px.line}\n",
    "        \n",
    "    try:\n",
    "        # Initialize function\n",
    "        fig = plot_dict[graph_type](region_df, \n",
    "                                    x=dimension1, \n",
    "                                    y=dimension2, \n",
    "                                    color = \"Geography\",\n",
    "                                   hover_name = \"Time\")\n",
    "        # Format figure \n",
    "        title_string = f'Chart: {graph_type} plot of {dimension1} and {dimension2} by Geography'\n",
    "        fig.update_layout(title = title_string)\n",
    "        fig.update_xaxes(tickangle=-45)\n",
    "        return fig\n",
    "    \n",
    "    except KeyError:\n",
    "        print(\"Key not found. Make sure that 'graph_type' is in ['box','violin', 'scatter', 'line']\")\n",
    "    except ValueError:\n",
    "        print(\"Dimension is not valid. dimension1 is one of 'Time' or 'Geography'\")\n",
    "        print(\"dimension2 is one of 'AverageMortgageAmount', 'DelinquencyRate', 'PopulationSize'\")"
   ]
  },
  {
   "cell_type": "code",
   "execution_count": null,
   "metadata": {
    "execution": {
     "iopub.execute_input": "2021-09-08T01:52:46.381Z",
     "iopub.status.busy": "2021-09-08T01:52:46.306Z",
     "iopub.status.idle": "2021-09-08T01:52:46.659Z",
     "shell.execute_reply": "2021-09-08T01:52:46.706Z"
    },
    "jupyter": {
     "outputs_hidden": false,
     "source_hidden": false
    },
    "noteable": {
     "cell_type": "code",
     "transaction_ids": {
      "source": "23016612-ce30-461e-b3fe-e48b2059cc90"
     }
    },
    "nteract": {
     "transient": {
      "deleting": false
     }
    },
    "slideshow": {
     "slide_type": "subslide"
    }
   },
   "outputs": [],
   "source": [
    "graph_region(data_pop_del_mort_df, 'line', \"Time\", \"AverageMortgageAmount\")"
   ]
  },
  {
   "cell_type": "code",
   "execution_count": null,
   "metadata": {
    "execution": {
     "iopub.execute_input": "2021-09-08T01:52:16.155Z",
     "iopub.status.busy": "2021-09-08T01:52:16.095Z",
     "iopub.status.idle": "2021-09-08T01:52:16.490Z",
     "shell.execute_reply": "2021-09-08T01:52:16.538Z"
    },
    "jupyter": {
     "outputs_hidden": false,
     "source_hidden": false
    },
    "noteable": {
     "cell_type": "code",
     "transaction_ids": {
      "source": "a15352a9-4d1b-4b8a-8565-c36ae35619eb"
     }
    },
    "nteract": {
     "transient": {
      "deleting": false
     }
    },
    "slideshow": {
     "slide_type": "subslide"
    }
   },
   "outputs": [],
   "source": [
    "graph_region(data_pop_del_mort_df, 'box', \"Geography\", \"PopulationSize\")"
   ]
  },
  {
   "cell_type": "code",
   "execution_count": null,
   "metadata": {
    "jupyter": {
     "outputs_hidden": false,
     "source_hidden": false
    },
    "noteable": {
     "cell_type": "code"
    },
    "nteract": {
     "transient": {
      "deleting": false
     }
    },
    "slideshow": {
     "slide_type": "subslide"
    }
   },
   "outputs": [],
   "source": [
    "graph_region(data_pop_del_mort_df, 'scatter', \"AverageMortgageAmount\", \"DelinquencyRate\")"
   ]
  },
  {
   "cell_type": "markdown",
   "metadata": {
    "slideshow": {
     "slide_type": "slide"
    }
   },
   "source": [
    "## Bonus, incorporating time series plots"
   ]
  },
  {
   "cell_type": "code",
   "execution_count": null,
   "metadata": {
    "slideshow": {
     "slide_type": "subslide"
    }
   },
   "outputs": [],
   "source": [
    "# Optional to have regions\n",
    "\n",
    "fig = px.scatter(data_frame=data_pop_del_mort_df,\n",
    "          y = \"AverageMortgageAmount\",\n",
    "          x = \"DelinquencyRate\",\n",
    "          size= \"PopulationSize\",\n",
    "          color= \"Geography\",\n",
    "          animation_frame=\"Time\",\n",
    "           animation_group=\"Geography\",\n",
    "           title = \"Delinquency rate vs average mortgage over time\"\n",
    "          )\n",
    "fig.update_layout(yaxis_range=[100000,500000])\n",
    "fig.update_layout(xaxis_range=[0,1])\n",
    "fig.show()"
   ]
  },
  {
   "cell_type": "markdown",
   "metadata": {
    "slideshow": {
     "slide_type": "slide"
    }
   },
   "source": [
    "This concludes part I. In the next section, we will take what we built together and work on the components of our dashboard."
   ]
  }
 ],
 "metadata": {
  "celltoolbar": "Slideshow",
  "display_mode": "fullwidth",
  "kernelspec": {
   "display_name": "Python 3",
   "language": "python",
   "name": "python3"
  },
  "language_info": {
   "codemirror_mode": {
    "name": "ipython",
    "version": 3
   },
   "file_extension": ".py",
   "mimetype": "text/x-python",
   "name": "python",
   "nbconvert_exporter": "python",
   "pygments_lexer": "ipython3",
   "version": "3.7.6"
  },
  "noteable": {
   "last_transaction_id": "ca0dca7b-6250-4d52-9988-56458b3d5655"
  },
  "nteract": {
   "version": "noteable@2.1.0"
  },
  "selected_hardware_size": "small"
 },
 "nbformat": 4,
 "nbformat_minor": 5
}
