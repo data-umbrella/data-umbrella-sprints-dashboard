{
 "cells": [
  {
   "cell_type": "markdown",
   "metadata": {
    "slideshow": {
     "slide_type": "slide"
    }
   },
   "source": [
    "# Welcome to introduction to dashboards with Plotly and Dash\n",
    "\n",
    "-------------------------------------------------------------------------------------------------------------------------------\n",
    "\n",
    "\n",
    "### Workshop facilitators: Laura Gutierrez Funderburk, Hanh Tong\n",
    "\n",
    "### About this workshop\n",
    "\n",
    "In this workshop we will explore some characteristics of the housing market in Canada. \n",
    "\n",
    "It is important to note that this workshop assumes:\n",
    "\n",
    "1. Data cleaning and exploration was completed prior to developing the dashboard\n",
    "2. Some comfort with `pandas` and visualization is assumed\n",
    "3. Comfort navigating the Jupyter environment is needed\n"
   ]
  },
  {
   "cell_type": "markdown",
   "metadata": {
    "slideshow": {
     "slide_type": "slide"
    }
   },
   "source": [
    "\n",
    "### Workshop schedule:\n",
    "-------------------------------------------------------------------------------------------------------------------------------\n",
    "\n",
    "\n",
    "#### 1. Part I: Data exploration\n",
    "\n",
    "In this section, we will first spend time getting familiar with the data. We will use the `pandas` and `plotly` libraries, we will also explore the `DEX` feature within Noteable to ease getting a good sense for what the data contains.\n",
    "\n",
    "In this section, we will also explore the notion of factoring code into functions, and the notion of writing a Python script that we can use to easily recreate our results. \n",
    "\n",
    "#### 2. Part II: Dashboard components\n",
    "\n",
    "In this section, we will take what we built together in part I and explore the main components in a Dash dashboard. "
   ]
  },
  {
   "cell_type": "markdown",
   "metadata": {
    "slideshow": {
     "slide_type": "slide"
    }
   },
   "source": [
    "## Part II: Dashboard components\n",
    "-------------------------------------------------------------------------------------------------------------------------------\n",
    "\n",
    "\n",
    "The four main components in a Dash dashboard are:\n",
    "\n",
    "1. A .py script (also known as your dashboard app) `app.py`\n",
    "\n",
    "2. A requirements.txt file with the Python dependencies for your app\n",
    "\n",
    "3. A Procfile\n",
    "\n",
    "4. A .gitignore file"
   ]
  },
  {
   "cell_type": "markdown",
   "metadata": {
    "slideshow": {
     "slide_type": "slide"
    }
   },
   "source": [
    "\n",
    "### The .py script anatomy\n",
    "\n",
    "-------------------------------------------------------------------------------------------------------------------------------\n",
    "\n",
    "\n",
    "The anatomy of a .py script is as follows:\n",
    "\n",
    "```python\n",
    "import math\n",
    "\n",
    "def function1(par1: int, par2: str) -> None:\n",
    "    \"\"\"\n",
    "    Parameters\n",
    "    ----------\n",
    "        par1: (dataframe object) reshaped data frame object with mortage, delinquency and population data\n",
    "        par2: (string) \"box\", \"violin\", \"scatter\", \"line\"\n",
    "         \n",
    "    Returns:\n",
    "    --------\n",
    "        None\n",
    "    \"\"\"\n",
    "    print(f\"{par1} is spelled '{par2}'\")\n",
    "        \n",
    "if __name__ == '__main__':  \n",
    "    \n",
    "    # Code that does something\n",
    "    function1(1, \"one\")\n",
    "```"
   ]
  },
  {
   "cell_type": "markdown",
   "metadata": {
    "slideshow": {
     "slide_type": "slide"
    }
   },
   "source": [
    "### A running example\n",
    "\n",
    "-------------------------------------------------------------------------------------------------------------------------------\n",
    "\n",
    "Let's package the content of the function `graph_region` that we crafted in part I. The script looks as follows:"
   ]
  },
  {
   "cell_type": "code",
   "execution_count": null,
   "metadata": {
    "scrolled": false,
    "slideshow": {
     "slide_type": "slide"
    }
   },
   "outputs": [],
   "source": [
    "# %load ./nb-scripts/base_script.py\n",
    "import pandas as pd\n",
    "import plotly.express as px\n",
    "\n",
    "def graph_region(region_df, graph_type: str, dimension1: str, dimension2: str):\n",
    "    \"\"\"\n",
    "    Parameters\n",
    "    ----------\n",
    "        region_df: (dataframe object) reshaped data frame object with mortage, delinquency and population data\n",
    "        graph_type: (string) \"box\", \"violin\", \"scatter\", \"line\"\n",
    "        dimension1: (str) one of 'Time' or 'Geography'\n",
    "        dimension2: (str) one of 'AverageMortgageAmount', 'AverageMortgageAmount' or 'PopulationSize'\n",
    "        \n",
    "    Returns:\n",
    "    --------\n",
    "        Plotly figure\n",
    "    \"\"\"\n",
    "    \n",
    "    plot_dict = {'box': px.box,'violin': px.violin, 'scatter': px.scatter, 'line':px.line}\n",
    "        \n",
    "    try:\n",
    "        # Initialize function\n",
    "        fig = plot_dict[graph_type](region_df, \n",
    "                                    x=dimension1, \n",
    "                                    y=dimension2, \n",
    "                                    color = \"Geography\",\n",
    "                                   hover_name = \"Time\")\n",
    "        # Format figure \n",
    "        title_string = f'Chart: {graph_type} plot of {dimension1} and {dimension2} by Geography'\n",
    "        fig.update_layout(title = title_string)\n",
    "        fig.update_xaxes(tickangle=-45)\n",
    "        return fig\n",
    "    \n",
    "    except KeyError:\n",
    "        print(\"Key not found. Make sure that 'graph_type' is in ['box','violin', 'scatter', 'line']\")\n",
    "    except ValueError:\n",
    "        print(\"Dimension is not valid. dimension1 is one of 'Time' or 'Geography'\")\n",
    "        print(\"dimension2 is one of 'AverageMortgageAmount', 'DelinquencyRate', 'PopulationSize'\")\n",
    "        \n",
    "        \n",
    "if __name__ == '__main__':  \n",
    "    \n",
    "    # Read the data into a dataframe \n",
    "    url = 'https://raw.githubusercontent.com/Vancouver-Datajam/dashboard-workshop-dash/main/data/delinquency_mortgage_population_2021_2020.csv'\n",
    "    data_pop_del_mort_df = pd.read_csv(url, index_col=0)\n",
    "    \n",
    "    # See the first few rows\n",
    "    display(data_pop_del_mort_df.head(10))\n",
    "    \n",
    "    # Visualize\n",
    "    fig1 = graph_region(data_pop_del_mort_df, 'line', \"Time\", \"AverageMortgageAmount\")\n",
    "    fig2 = graph_region(data_pop_del_mort_df, 'box', \"Geography\", \"AverageMortgageAmount\")\n",
    "    fig3 = graph_region(data_pop_del_mort_df, 'scatter', \"AverageMortgageAmount\", \"DelinquencyRate\")\n",
    "    \n",
    "    fig1.show()\n",
    "    fig2.show()\n",
    "    fig3.show()"
   ]
  },
  {
   "cell_type": "code",
   "execution_count": null,
   "metadata": {
    "scrolled": false,
    "slideshow": {
     "slide_type": "slide"
    }
   },
   "outputs": [],
   "source": [
    "%run -i ./nb-scripts/base_script.py"
   ]
  },
  {
   "cell_type": "markdown",
   "metadata": {
    "slideshow": {
     "slide_type": "slide"
    }
   },
   "source": [
    "\n",
    "### What is wrong with the plots being laid out this way?\n",
    "-------------------------------------------------------------------------------------------------------------------------------\n",
    "\n",
    "\n",
    "A lot...\n",
    "\n",
    "This is hard to read, hard to interact with, and overwhelming. \n",
    "\n",
    "Furthemore, we'd need to change the code every time we want to render a different plot. \n",
    "\n",
    "We introduce the app machinery."
   ]
  },
  {
   "cell_type": "markdown",
   "metadata": {
    "slideshow": {
     "slide_type": "slide"
    }
   },
   "source": [
    "### The `app.py` script\n",
    "-------------------------------------------------------------------------------------------------------------------------------\n",
    "\n",
    "\n",
    "The `app.py` script is a Python script responsible for deploying our app. It is just a .py script with additional machinery. \n"
   ]
  },
  {
   "cell_type": "markdown",
   "metadata": {
    "slideshow": {
     "slide_type": "slide"
    }
   },
   "source": [
    "### The `app.py` additional machinery\n",
    "-------------------------------------------------------------------------------------------------------------------------------\n",
    "\n",
    "Our app is going to contain mostly the same as a regular .py script, plus a few new items:\n",
    "\n",
    "- Dash library imports\n",
    "- External stylesheets\n",
    "- App initialization\n",
    "- App layout\n",
    "- Decorator callbacks"
   ]
  },
  {
   "cell_type": "markdown",
   "metadata": {
    "slideshow": {
     "slide_type": "subslide"
    }
   },
   "source": [
    "### Dash library imports\n",
    "-------------------------------------------------------------------------------------------------------------------------------\n",
    "\n",
    "```python\n",
    "\n",
    "import dash\n",
    "import dash_core_components as dcc\n",
    "import dash_html_components as html\n",
    "from dash.dependencies import Input, Output\n",
    "\n",
    "```"
   ]
  },
  {
   "cell_type": "markdown",
   "metadata": {
    "slideshow": {
     "slide_type": "subslide"
    }
   },
   "source": [
    "### External stylesheets\n",
    "-------------------------------------------------------------------------------------------------------------------------------\n",
    "\n",
    "```python\n",
    "\n",
    "# Stylesheets\n",
    "external_stylesheets = ['https://codepen.io/chriddyp/pen/bWLwgP.css']\n",
    "\n",
    "\n",
    "```\n",
    "\n",
    "Dash applications are rendered in the web browser with CSS and JavaScript. On page load, Dash serves a small HTML template that includes references to the CSS and JavaScript that are required to render the application. You can use stylesheets in your dashboard, similarly to how you'd use them to style your website.\n",
    "\n",
    "Read more https://dash.plotly.com/external-resources"
   ]
  },
  {
   "cell_type": "markdown",
   "metadata": {
    "slideshow": {
     "slide_type": "subslide"
    }
   },
   "source": [
    "### App initialization\n",
    "-------------------------------------------------------------------------------------------------------------------------------\n",
    "\n",
    "```python\n",
    "\n",
    "# Intialize app\n",
    "app = dash.Dash(__name__, external_stylesheets=external_stylesheets)\n",
    "server = app.server\n",
    "\n",
    "\n",
    "```\n"
   ]
  },
  {
   "cell_type": "markdown",
   "metadata": {
    "slideshow": {
     "slide_type": "subslide"
    }
   },
   "source": [
    "### App layout\n",
    "-------------------------------------------------------------------------------------------------------------------------------\n",
    "\n",
    "```python\n",
    "\n",
    "app.layout = html.Div([sidebar, content])\n",
    "\n",
    "\n",
    "```\n",
    "\n",
    "This component describes what the application looks like.\n",
    "\n",
    "https://dash.plotly.com/layout"
   ]
  },
  {
   "cell_type": "markdown",
   "metadata": {
    "slideshow": {
     "slide_type": "subslide"
    }
   },
   "source": [
    "### Decorator callbacks\n",
    "-------------------------------------------------------------------------------------------------------------------------------\n",
    "\n",
    "```python\n",
    "\n",
    "@app.callback(\n",
    "     Output('graph-id', 'figure'),\n",
    "    Input('value-id', 'value')\n",
    "def update_figure(parameter):\n",
    "    \"\"\"\n",
    "    Parameters\n",
    "    ----------\n",
    "        parameter: This is the value that will be updated in the app\n",
    "    \"\"\"\n",
    "    \n",
    "    # Code that uses the variable value to make a change \n",
    "    ...\n",
    "    # Code that generates figure based on value\n",
    "    fig = ...\n",
    "\n",
    "    return fig\n",
    "\n",
    "\n",
    "```\n",
    "\n",
    "\n",
    "Decorator callbacks are Python functions that are automatically called by Dash whenever an input component's property changes. This is what makes it possible for dashboards to be interactive.\n",
    "\n",
    "Read more https://dash.plotly.com/basic-callbacks"
   ]
  },
  {
   "cell_type": "markdown",
   "metadata": {
    "slideshow": {
     "slide_type": "slide"
    }
   },
   "source": [
    "Exit slideshow to see full script.\n",
    "\n",
    "```python\n",
    "import pandas as pd\n",
    "import plotly.express as px\n",
    "import dash\n",
    "import dash_core_components as dcc\n",
    "import dash_html_components as html\n",
    "from dash.dependencies import Input, Output\n",
    "\n",
    "# ----------------------------------------------------------------------------------#\n",
    "# Read data\n",
    "\n",
    "\n",
    "# ----------------------------------------------------------------------------------#\n",
    "# App section\n",
    "\n",
    "# Stylesheets\n",
    "external_stylesheets = ['https://codepen.io/chriddyp/pen/bWLwgP.css']\n",
    "\n",
    "# Intialize app\n",
    "app = dash.Dash(__name__, external_stylesheets=external_stylesheets)\n",
    "server = app.server\n",
    "\n",
    "app.layout = # some code with our layout\n",
    "\n",
    "\n",
    "@app.callback(\n",
    "     Output('graph-id', 'figure'),\n",
    "    Input('value-id', 'value')\n",
    "def update_figure(parameter):\n",
    "    \"\"\"\n",
    "    Parameters\n",
    "    ----------\n",
    "        parameter: This is the value that will be updated in the app\n",
    "    \"\"\"\n",
    "    \n",
    "    # Code that uses the variable value to make a change \n",
    "    ...\n",
    "    # Code that generates figure based on value\n",
    "    fig = ...\n",
    "\n",
    "    return fig\n",
    "\n",
    "\n",
    "if __name__ == '__main__':  \n",
    "    app.run_server(debug=True) \n",
    "```\n",
    "\n"
   ]
  },
  {
   "cell_type": "markdown",
   "metadata": {
    "slideshow": {
     "slide_type": "slide"
    }
   },
   "source": [
    "### Let's work together to turn our plotting script into an app using Dash\n",
    "\n",
    "-------------------------------------------------------------------------------------------------------------------------------\n"
   ]
  },
  {
   "cell_type": "code",
   "execution_count": null,
   "metadata": {
    "slideshow": {
     "slide_type": "slide"
    }
   },
   "outputs": [],
   "source": [
    "\n",
    "import pandas as pd\n",
    "import plotly.express as px\n",
    "import dash\n",
    "import dash_core_components as dcc\n",
    "import dash_html_components as html\n",
    "from dash.dependencies import Input, Output\n",
    "\n",
    "def graph_region(region_df, graph_type: str, dimension1: str, dimension2: str) -> None:\n",
    "    \"\"\"\n",
    "    Parameters\n",
    "    ----------\n",
    "        region_df: (dataframe object) reshaped data frame object with mortage, delinquency and population data\n",
    "        graph_type: (string) \"box\", \"violin\", \"scatter\", \"line\"\n",
    "        dimension1: (str) one of 'Time' or 'Geography'\n",
    "        dimension2: (str) one of 'AverageMortgageAmount', 'AverageMortgageAmount' or 'PopulationSize'\n",
    "        \n",
    "    Returns:\n",
    "    --------\n",
    "        None\n",
    "    \"\"\"\n",
    "    \n",
    "    plot_dict = {'box': px.box,'violin': px.violin, 'scatter': px.scatter, 'line':px.line}\n",
    "        \n",
    "    try:\n",
    "        # Initialize function\n",
    "        fig = plot_dict[graph_type](region_df, \n",
    "                                    x=dimension1, \n",
    "                                    y=dimension2, \n",
    "                                    color = \"Geography\",\n",
    "                                   hover_name = \"Time\")\n",
    "        # Format figure \n",
    "        title_string = f'Chart: {graph_type} plot of {dimension1} and {dimension2} by Geography'\n",
    "        fig.update_layout(title = title_string)\n",
    "        fig.update_xaxes(tickangle=-45)\n",
    "        fig.show()\n",
    "    \n",
    "    except KeyError:\n",
    "        print(\"Key not found. Make sure that 'graph_type' is in ['box','violin', 'scatter', 'line']\")\n",
    "    except ValueError:\n",
    "        print(\"Dimension is not valid. dimension1 is one of 'Time' or 'Geography'\")\n",
    "        print(\"dimension2 is one of 'AverageMortgageAmount', 'DelinquencyRate', 'PopulationSize'\")\n",
    "        \n",
    "        \n",
    "# ----------------------------------------------------------------------------------#\n",
    "# Read data\n",
    "\n",
    "url = 'https://raw.githubusercontent.com/Vancouver-Datajam/dashboard-workshop-dash/main/data/delinquency_mortgage_population_2021_2020.csv'\n",
    "data_pop_del_mort_df = pd.read_csv(url, index_col=0)\n",
    "\n",
    "# ----------------------------------------------------------------------------------#\n",
    "# App section        \n",
    "        \n",
    "\n",
    "# Stylesheets\n",
    "external_stylesheets = ['https://codepen.io/chriddyp/pen/bWLwgP.css']\n",
    "\n",
    "# Intialize app\n",
    "app = dash.Dash(__name__, external_stylesheets=external_stylesheets)\n",
    "server = app.server\n",
    "\n",
    "app.layout = html.Div([\n",
    "                html.H1(\"Housing graphs\"),\n",
    "                dcc.Dropdown(id='province',\n",
    "                             options=[{'label': i, 'value': i} for i in data_pop_del_mort_df['Geography'].unique()],\n",
    "                             value= 'Newfoundland')\n",
    "                     ])\n",
    "\n",
    "\n",
    "        \n",
    "if __name__ == '__main__':  \n",
    "    \n",
    "    app.run_server(debug=True) "
   ]
  },
  {
   "cell_type": "markdown",
   "metadata": {
    "slideshow": {
     "slide_type": "slide"
    }
   },
   "source": [
    "### Why choosing your layout before coding matters\n",
    "\n",
    "-------------------------------------------------------------------------------------------------------------------------------\n",
    "\n",
    "The previous cell renders a dashboard containing only a dropdown menu with provinces in Canada. \n",
    "\n",
    "Before we build our dashboard, we first need to spend a bit of time thinking about what it is our dashboard contains, and how it is laid out. \n",
    "\n",
    "Deciding a layout prior to coding will make cleaning and maintaining your app easier. \n",
    "\n",
    "You can use any software you like to create your diagrams. \n",
    "\n",
    "For this workshop we will use https://app.diagrams.net/"
   ]
  },
  {
   "cell_type": "markdown",
   "metadata": {
    "slideshow": {
     "slide_type": "slide"
    }
   },
   "source": [
    "### A basic layout: a dropdown menu and a plot\n",
    "\n",
    "-------------------------------------------------------------------------------------------------------------------------------\n",
    "\n",
    "Our first step will be to implement a dropdown menu that selects one of: scatter plot, line chart and box chart.\n",
    "\n",
    "https://drive.google.com/file/d/1JHjlf3BBDBMTS_N76xE5WZslOBOUzfW9/view?usp=sharing"
   ]
  },
  {
   "cell_type": "markdown",
   "metadata": {
    "slideshow": {
     "slide_type": "subslide"
    }
   },
   "source": [
    "### The dropdown menu \n",
    "\n",
    "-------------------------------------------------------------------------------------------------------------------------------\n",
    "\n",
    "The code below will render a dropdown menu whose options are 'box', 'scatter', 'line', 'violin'.\n",
    "\n",
    "If you are familiar with HTML, you will recognize a few important tags including `div` and `h1`. We can use `dash_core_components` with the alias `dcc` to access the `Dropdown feature`. \n",
    "\n",
    "The options are a list of dictionaries with labels and values.\n",
    "\n",
    "```python\n",
    "app.layout = html.Div([\n",
    "             # This div contains a header H1, a dropdown to select the kind of plot and the plot\n",
    "            html.H1(\"Different kinds of plots\"),\n",
    "            dcc.Dropdown(\n",
    "                        id='graph-type',\n",
    "                        options=[{'label': 'Scatter plot', 'value': 'scatter'},\n",
    "                                {'label': 'Line plot', 'value': 'line'},\n",
    "                                {'label': 'Box plot', 'value': 'box'}],\n",
    "                        value= 'box')\n",
    "\n",
    "        \n",
    "])\n",
    "```"
   ]
  },
  {
   "cell_type": "code",
   "execution_count": null,
   "metadata": {
    "slideshow": {
     "slide_type": "subslide"
    }
   },
   "outputs": [],
   "source": [
    "# Let's take a look at the labels\n",
    "\n",
    "options=[{'label': i, 'value': i} for i in ['box', 'scatter', 'line', 'violin']]\n",
    "\n",
    "options"
   ]
  },
  {
   "cell_type": "markdown",
   "metadata": {
    "slideshow": {
     "slide_type": "slide"
    }
   },
   "source": [
    "### A plot that changes based on the plot type.\n",
    "\n",
    "-------------------------------------------------------------------------------------------------------------------------------\n",
    "\n",
    "The code below will render a dropdown menu whose options are determined by the `Geography` column in the `data_pop_del_mort_df` dataframe object. \n",
    "\n",
    "If you are familiar with HTML, you will recognize a few important tags including `div` and `h1`. We can use `dash_core_components` with the alias `dcc` to access the `Dropdown feature`. \n",
    "\n",
    "The options are a list of dictionaries with labels and values.\n",
    "\n",
    "```python\n",
    "app.layout = html.Div([\n",
    "             # This div contains a header H1, a dropdown to select the kind of plot and the plot\n",
    "            html.H1(\"Different kinds of plots\"),\n",
    "            dcc.Dropdown(\n",
    "                        id='graph-type',\n",
    "                        options=[{'label': 'Violin plot', 'value': 'violin'},\n",
    "                                {'label': 'Box plot', 'value': 'box'}],\n",
    "                        value= 'box'),\n",
    "            dcc.Graph(id='graph-render')\n",
    "])\n",
    " ```"
   ]
  },
  {
   "cell_type": "markdown",
   "metadata": {
    "slideshow": {
     "slide_type": "slide"
    }
   },
   "source": [
    "### A mechanism to update the figure type\n",
    "\n",
    "-------------------------------------------------------------------------------------------------------------------------------\n",
    "\n",
    "```python\n",
    "\n",
    "app.layout = html.Div([\n",
    "             # This div contains a header H1, a dropdown to select the kind of plot and the plot\n",
    "            html.H1(\"Different kinds of plots\"),\n",
    "            dcc.Dropdown(\n",
    "                        id='graph-type',\n",
    "                        options=[{'label': 'Violin plot', 'value': 'violin'},\n",
    "                                {'label': 'Box plot', 'value': 'box'}],\n",
    "                        value= 'box'),\n",
    "            dcc.Graph(id='graph-render')\n",
    "])\n",
    "\n",
    "@app.callback(\n",
    "    Output('graph-render', 'figure'),\n",
    "    Input('graph-type', 'value'))\n",
    "def update_figure0(selected_graph):\n",
    "    filtered_df = data_pop_del_mort_df\n",
    "    fig0 = graph_region(filtered_df, selected_graph, \"Geography\", \"AverageMortgageAmount\")\n",
    "    return fig0\n",
    "\n",
    "```"
   ]
  },
  {
   "cell_type": "markdown",
   "metadata": {
    "slideshow": {
     "slide_type": "slide"
    }
   },
   "source": [
    "### A dropdown that updates two figures\n",
    "\n",
    "-------------------------------------------------------------------------------------------------------------------------------\n",
    "\n",
    "\n",
    "```python\n",
    "app.layout = html.Div([\n",
    "                html.Div([\n",
    "                    # The province dropdown\n",
    "                    html.H1(\"Housing graphs\"),\n",
    "                    dcc.Dropdown(\n",
    "                        id='province',\n",
    "                        options=[{'label': i, 'value': i} for i in data_pop_del_mort_df['Geography'].unique()],\n",
    "                        value= 'Newfoundland'\n",
    "                    )\n",
    "                ]),\n",
    "                \n",
    "                # Plotting two graphs side by side\n",
    "                html.Div([\n",
    "                    html.Div([\n",
    "                        dcc.Graph(id='graph-time-mortgage')\n",
    "                    ], className=\"six columns\"),\n",
    "\n",
    "                    html.Div([\n",
    "                        dcc.Graph(id='graph-time-del')\n",
    "                    ], className=\"six columns\"),\n",
    "                ], className=\"row\")\n",
    "])\n",
    "\n",
    "    \n",
    "@app.callback(\n",
    "    Output('graph-time-mortgage', 'figure'),\n",
    "    Input('province', 'value'))\n",
    "def update_figure1(selected_province):\n",
    "    df = data_pop_del_mort_df\n",
    "    filtered_df = df[df['Geography'] == selected_province]\n",
    "    fig1 = graph_region(filtered_df, 'line', \"Time\", \"AverageMortgageAmount\")\n",
    "    return fig1\n",
    "\n",
    "@app.callback(\n",
    "    Output('graph-time-del', 'figure'),\n",
    "    Input('province', 'value'))\n",
    "def update_figure2(selected_province):\n",
    "    df = data_pop_del_mort_df\n",
    "    filtered_df = df[df['Geography'] == selected_province]  \n",
    "    fig2 = graph_region(filtered_df, 'line', \"Time\", \"DelinquencyRate\")\n",
    "    return fig2\n",
    "```"
   ]
  },
  {
   "cell_type": "markdown",
   "metadata": {
    "slideshow": {
     "slide_type": "slide"
    }
   },
   "source": [
    "### Several dropdown menus updating the same figure\n",
    "\n",
    "-------------------------------------------------------------------------------------------------------------------------------\n",
    "\n",
    "\n",
    "```python\n",
    "\n",
    "text_style = {\n",
    "    'textAlign' : 'center',\n",
    "    'color' : \"black\"\n",
    "}\n",
    "\n",
    "card_text_style = {\n",
    "    'textAlign' : 'center',\n",
    "    'color' : 'black'\n",
    "}\n",
    "    \n",
    "app.layout = html.Div([\n",
    "    html.Div([\n",
    "        html.H2(\"Housing Market Trends in Vancouver (quarterly, 2012 - 2020)\", style=card_text_style),\n",
    "        html.Div([\n",
    "            \n",
    "            dcc.Dropdown(\n",
    "                id='xaxis-column',\n",
    "                options=[{'label': 'Geography', 'value': 'Geography'},\n",
    "                         {'label': 'Time', 'value': 'Time'},\n",
    "                        {'label': 'Population Size', 'value': 'PopulationSize'},\n",
    "                         {'label': 'Delinquency Rate', 'value': 'DelinquencyRate'},\n",
    "                        {'label': 'Average Mortgage Amount', 'value': 'AverageMortgageAmount'}],\n",
    "                value='Geography'\n",
    "            ),\n",
    "            dcc.Dropdown(\n",
    "                id='yaxis-column',\n",
    "                options=[{'label': 'Population Size', 'value': 'PopulationSize'},\n",
    "                         {'label': 'Delinquency Rate', 'value': 'DelinquencyRate'},\n",
    "                        {'label': 'Average Mortgage Amount', 'value': 'AverageMortgageAmount'}],\n",
    "                value='PopulationSize'\n",
    "            ),\n",
    "            \n",
    "        ]),\n",
    "        \n",
    "        html.Div([\n",
    "            dcc.Checklist(\n",
    "                id='graph-type',\n",
    "                options=[{'label': 'Violin plot', 'value': 'violin'},\n",
    "                         {'label': 'Box plot', 'value': 'box'},\n",
    "                        {'label': 'Scatter plot', 'value': 'scatter'},\n",
    "                        {'label': 'Line plot', 'value': 'line'}],\n",
    "                value=['violin']\n",
    "            )\n",
    "        ])\n",
    "    ]),\n",
    "\n",
    "    dcc.Graph(id='indicator-graphic'),\n",
    "\n",
    "    \n",
    "])\n",
    "\n",
    "@app.callback(\n",
    "    Output('indicator-graphic', 'figure'),\n",
    "    Input('graph-type', 'value'),\n",
    "    Input('xaxis-column', 'value'),\n",
    "    Input('yaxis-column', 'value'))\n",
    "def update_figure3(selected_graph, xaxis, yaxis):\n",
    "    filtered_df = data_pop_del_mort_df\n",
    "    fig3 = graph_region(filtered_df, selected_graph[0], xaxis, yaxis)\n",
    "    return fig3\n",
    "```"
   ]
  },
  {
   "cell_type": "markdown",
   "metadata": {
    "slideshow": {
     "slide_type": "slide"
    }
   },
   "source": [
    "### Hosting your Dashboard\n",
    "\n",
    "-------------------------------------------------------------------------------------------------------------------------------\n",
    "\n",
    "Once you are happy and have tested your dashboard locally, we need to store our app in a GitHub repository with the following files:\n",
    "\n",
    "Procfile\n",
    "\n",
    "requirements.txt\n",
    "\n",
    ".gitignore\n",
    "\n",
    "We created a base repository with all these files for you. All you need to do is:\n",
    "\n",
    "0. Press the \"Template\" button in https://github.com/Vancouver-Datajam/dashboard-prep to create your own copy. \n",
    "\n",
    "1. Clone your copy of the repository on your local computer\n",
    "\n",
    "2. Add the app.py filename onto your local copy of the repository.\n",
    "\n",
    "3. Push app.py to `origin/main`\n",
    "\n",
    "4. Login to your Heroku account via the terminal.\n",
    "\n",
    "6. Run `git remote -v` to confirm \n",
    "\n",
    "5. Run `git add .` \n",
    "\n",
    "6. Run `git push origin/heroku`\n",
    "\n",
    "7. Visit the page to ensure it is up or troubleshoot until you find the error."
   ]
  }
 ],
 "metadata": {
  "celltoolbar": "Slideshow",
  "kernelspec": {
   "display_name": "Python 3",
   "language": "python",
   "name": "python3"
  },
  "language_info": {
   "codemirror_mode": {
    "name": "ipython",
    "version": 3
   },
   "file_extension": ".py",
   "mimetype": "text/x-python",
   "name": "python",
   "nbconvert_exporter": "python",
   "pygments_lexer": "ipython3",
   "version": "3.7.6"
  }
 },
 "nbformat": 4,
 "nbformat_minor": 4
}
