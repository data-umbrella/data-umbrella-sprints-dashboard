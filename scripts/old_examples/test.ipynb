{
 "cells": [
  {
   "cell_type": "code",
   "execution_count": 2,
   "id": "0bc2cb0e",
   "metadata": {},
   "outputs": [],
   "source": [
    "import plotly.express as px\n",
    "import pandas as pd\n",
    "\n",
    "# This dataframe has 244 lines, but 4 distinct values for `day`\n",
    "#df = px.data.tips()\n",
    "\n",
    "data_url = \"https://raw.githubusercontent.com/data-umbrella/data-umbrella-sprints-dashboard/main/data/data_derived/afme2_derived.csv\"\n",
    "df = pd.read_csv(data_url)\n",
    "\n",
    "names = ['gender', 'contributor_status', 'continent_o', 'python_experience', 'country']\n",
    "values = ['count_rows']\n",
    "\n",
    "def generate_chart(names, values):\n",
    "    #fig = px.pie(df, values=values, names=names)\n",
    "    #fig.update_traces(textposition='inside', textinfo='value+percent+label')\n",
    "\n",
    "    # Try 2: it works\n",
    "    #fig = px.bar(df, x=values, y=names, color=\"status_c\", barmode=\"stack\", orientation=\"h\", text=values) \n",
    "\n",
    "    # Try 3: it works with a warning\n",
    "#     grouped_yr_status = df.groupby([names,'status_c']).count().reset_index()\n",
    "#     df2 = grouped_yr_status[[names, 'status_c', values]] \n",
    "#     fig = px.bar(df2, x=values, y=names, color=\"status_c\", barmode=\"stack\", orientation=\"h\", text=values) \n",
    "\n",
    "    # Try 4: try to remove warning\n",
    "    grouped_yr_status = df.groupby([names[0, 'status_c']]).count().reset_index()\n",
    "    df2 = grouped_yr_status[[names[0], 'status_c', values]] \n",
    "    fig = px.bar(df2, x=values[0], y=names[0], color=\"status_c\", barmode=\"stack\", orientation=\"h\", text=values) \n",
    "    \n",
    "    fig.update_layout(barmode='stack', xaxis={'categoryorder':'total descending'})\n",
    "    return fig"
   ]
  },
  {
   "cell_type": "code",
   "execution_count": null,
   "id": "81926d53",
   "metadata": {},
   "outputs": [],
   "source": []
  }
 ],
 "metadata": {
  "kernelspec": {
   "display_name": "Python 3 (ipykernel)",
   "language": "python",
   "name": "python3"
  },
  "language_info": {
   "codemirror_mode": {
    "name": "ipython",
    "version": 3
   },
   "file_extension": ".py",
   "mimetype": "text/x-python",
   "name": "python",
   "nbconvert_exporter": "python",
   "pygments_lexer": "ipython3",
   "version": "3.9.7"
  }
 },
 "nbformat": 4,
 "nbformat_minor": 5
}
